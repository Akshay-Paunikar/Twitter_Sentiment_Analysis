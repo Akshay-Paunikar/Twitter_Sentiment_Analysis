{
 "cells": [
  {
   "cell_type": "markdown",
   "metadata": {},
   "source": [
    "<h2>Twitter Sentiment Analysis - Analytics Vidhya</h2>"
   ]
  },
  {
   "cell_type": "markdown",
   "metadata": {},
   "source": [
    "<h3>Problem Statement:</h3>\n",
    "\n",
    "Hate  speech  is  an  unfortunately  common  occurrence  on  the  Internet.  Often social media sites like Facebook and Twitter face the problem of identifying and censoring  problematic  posts  while weighing the right to freedom of speech. The  importance  of  detecting  and  moderating hate  speech  is  evident  from  the  strong  connection between hate speech and actual hate crimes. Early identification of users promoting  hate  speech  could  enable  outreach  programs that attempt to prevent an escalation from speech to action. Sites such as Twitter and Facebook have been seeking  to  actively  combat  hate  speech. In spite of these reasons, NLP research on hate speech has been very limited, primarily due to the lack of a general definition of hate speech, an analysis of its demographic influences, and an investigation of the most effective features.\n",
    "\n",
    "The objective of this task is to detect hate speech in tweets. For the sake of simplicity, we say a tweet contains hate speech if it has a racist or sexist sentiment associated with it. So, the task is to classify racist or sexist tweets from other tweets.\n",
    "\n",
    "Formally, given a training sample of tweets and labels, where label '1' denotes the tweet is racist/sexist and label '0' denotes the tweet is not racist/sexist, your objective is to predict the labels on the test dataset.\n",
    "\n",
    "<h4>Data:</h4>\n",
    "\n",
    "Our overall collection of tweets was split in the ratio of 65:35 into training and testing data. Out of the testing data, 30% is public and the rest is private.\n",
    "\n",
    "<h4>Data Files:</h4>\n",
    "\n",
    "<b>train.csv</b> - For training the models, we provide a labelled dataset of 31,962 tweets. The dataset is provided in the form of a csv file with each line storing a tweet id, its label and the tweet. There is 1 test file (public)\n",
    "\n",
    "<b>test_tweets.csv</b> - The test data file contains only tweet ids and the tweet text with each tweet in a new line.\n",
    "\n",
    "<h4>Submission Details:</h4>\n",
    "\n",
    "The following 3 files are to be uploaded. \n",
    "\n",
    " - test_predictions.csv - This should contain the 0/1 label for the tweets in test_tweets.csv, in the same order corresponding to the tweets in test_tweets.csv. Each 0/1 label should be in a new line.\n",
    " - A .zip file of source code - The code should produce the output file submitted and must be properly commented.\n",
    "\n",
    "<h4>Evaluation Metric:</h4>\n",
    "\n",
    "The metric used for evaluating the performance of classification model would be F1-Score. \n",
    "\n",
    "The metric can be understood as - \n",
    "\n",
    " - True Positives (TP) - These are the correctly predicted positive values which means that the value of actual class is yes and the value of predicted class is also yes.\n",
    "\n",
    " - True Negatives (TN) - These are the correctly predicted negative values which means that the value of actual class is no and value of predicted class is also no.\n",
    "\n",
    " - False Positives (FP) – When actual class is no and predicted class is yes.\n",
    "\n",
    " - False Negatives (FN) – When actual class is yes but predicted class in no.\n",
    "\n",
    " - Precision = TP/TP+FP\n",
    "\n",
    " - Recall = TP/TP+FN \n",
    "\n",
    " - F1 Score = 2*(Recall * Precision) / (Recall + Precision) \n",
    "\n",
    "F1 is usually more useful than accuracy, especially if for an uneven class distribution."
   ]
  }
 ],
 "metadata": {
  "kernelspec": {
   "display_name": "Deep_Learning",
   "language": "python",
   "name": "python3"
  },
  "language_info": {
   "name": "python",
   "version": "3.9.18"
  }
 },
 "nbformat": 4,
 "nbformat_minor": 2
}
